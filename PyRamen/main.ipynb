{
 "metadata": {
  "language_info": {
   "codemirror_mode": {
    "name": "ipython",
    "version": 3
   },
   "file_extension": ".py",
   "mimetype": "text/x-python",
   "name": "python",
   "nbconvert_exporter": "python",
   "pygments_lexer": "ipython3",
   "version": "3.8.3-final"
  },
  "orig_nbformat": 2,
  "kernelspec": {
   "name": "Python 3.8.3 64-bit ('base': conda)",
   "display_name": "Python 3.8.3 64-bit ('base': conda)",
   "metadata": {
    "interpreter": {
     "hash": "3b2d1872a97fb64bbb0bf089e5dc4a4b17c31375caf39a3144f71c656be998ab"
    }
   }
  }
 },
 "nbformat": 4,
 "nbformat_minor": 2,
 "cells": [
  {
   "cell_type": "code",
   "execution_count": 11,
   "metadata": {},
   "outputs": [],
   "source": [
    "# read the Data\n",
    "from pathlib import Path\n",
    "import csv\n",
    "\n",
    "# Set the file path\n",
    "menu_csv = Path(\"Resources/menu_data.csv\")"
   ]
  },
  {
   "cell_type": "code",
   "execution_count": 12,
   "metadata": {
    "tags": []
   },
   "outputs": [
    {
     "output_type": "stream",
     "name": "stdout",
     "text": "[[&#39;edamame&#39;, &#39;appetizers&#39;, &#39;boiled soybeans, maldon sea salt&#39;, &#39;4&#39;, &#39;1&#39;], [&#39;house salad&#39;, &#39;appetizers&#39;, &#39;mixed greens, cherry tomatoes, cucumber, house ginger dressing&#39;, &#39;4&#39;, &#39;2&#39;], [&#39;cucumber sunomono salad&#39;, &#39;appetizers&#39;, &#39;cucumber, ponzu dressing, pickled ginger sproud, sesame seeds&#39;, &#39;5&#39;, &#39;2&#39;], [&#39;hiyashi wakame seaweed salad&#39;, &#39;appetizers&#39;, &#39;sweet soy-marinated wakame seaweed threads, pickled ginger sprout, sesame seeds&#39;, &#39;5&#39;, &#39;2&#39;], [&#39;agedashi tofu&#39;, &#39;appetizers&#39;, &#39;tempura battered tofu, katsuobushi, tsuyu broth, scallions&#39;, &#39;5&#39;, &#39;2&#39;], [&#39;hiyayakko tofu&#39;, &#39;appetizers&#39;, &#39;chilled soft tofu, house shoyu, katsuobushi, ginger, scallions&#39;, &#39;5&#39;, &#39;2&#39;], [&#39;pork floss bao&#39;, &#39;appetizers&#39;, &#39;two steamed buns, minced lean slow braised niman, ranch pork belly, cucumbers, sriracha mayo&#39;, &#39;4&#39;, &#39;2&#39;], [&#39;kakuni bao&#39;, &#39;appetizers&#39;, &#39;two steamed buns, chopped fatty slow braised niman ranch pork belly, cucumbers, house bao sauce&#39;, &#39;6&#39;, &#39;3&#39;], [&#39;edamame fried gyoza (vegan)&#39;, &#39;appetizers&#39;, &#39;six crispy fried edamame and cabbage pot stickers; ponzu rayu dipping sauce&#39;, &#39;6&#39;, &#39;3&#39;], [&#39;fried gyoza&#39;, &#39;appetizers&#39;, &#39;six cripsy fried pork and vegetable pot stickers; ponzu rayu dipping sauce&#39;, &#39;6&#39;, &#39;6&#39;], [&#39;takoyaki&#39;, &#39;appetizers&#39;, &#39;six octopus-filled fried fritters, kewpie mayo, okonomi sauce, aonori, katsuobushi, nori&#39;, &#39;6&#39;, &#39;3&#39;], [&#39;rock shrimp tempura&#39;, &#39;appetizers&#39;, &#39;deep fried tempura battered rock shrimp, sriracha mayo, nisume sauce, aonori, scallions&#39;, &#39;6&#39;, &#39;3&#39;], [&#39;soft-shell crab tempura&#39;, &#39;appetizers&#39;, &#39;single deep fried soft-shell crab, tsuyu dipping broth&#39;, &#39;6&#39;, &#39;3&#39;], [&#39;ebi katsu shrimp bao&#39;, &#39;appetizers&#39;, &#39;two steamed buns, panko-crusted fried shrimp patties, yuzu-kosho mayo, aonori, scallions&#39;, &#39;6&#39;, &#39;3&#39;], [&#39;nagomi shoyu&#39;, &#39;entree&#39;, &#39;shoyu seasoned clear double stock (organic chick broth + house dashi); slow braised niman ranch pork belly, hanjuku tamago, nori, menma, scallions&#39;, &#39;11&#39;, &#39;5&#39;], [&#39;shio ramen&#39;, &#39;entree&#39;, &#39;sea salt seasoned clear double stock (organic chicken broth + house dashi); slow braised niman ranch pork belly, hanjuku tamago, kikurage, nori, scallions&#39;, &#39;11&#39;, &#39;5&#39;], [&#39;spicy miso ramen&#39;, &#39;entree&#39;, &#39;house togarashi miso blend + niman ranch pork bone stock; slow braised niman ranch pork belly, hanjuku tamago, kikurage, nori, scallions&#39;, &#39;12&#39;, &#39;5&#39;], [&#39;vegetarian spicy miso&#39;, &#39;entree&#39;, &#39;house togarashi miso blend + vegan dashi; tempura fried tofu, sweet corn, edamame, kikurage, nori, scallions; organic soy milk upon request&#39;, &#39;12&#39;, &#39;5&#39;], [&#39;miso crab ramen&#39;, &#39;entree&#39;, &#39;house miso crab blend + vegan dashi; slow braised niman ranch pork belly, crab meat, hanjuku tamago, kikurage, nori, scallions&#39;, &#39;12&#39;, &#39;6&#39;], [&#39;soft-shell miso crab ramen&#39;, &#39;entree&#39;, &#39;house miso crab blend + vegan dashi; fried whole soft-shell crab, hanjuku tamago, kikurage, nori, scallions&#39;, &#39;14&#39;, &#39;7&#39;], [&#39;tori paitan ramen&#39;, &#39;entree&#39;, &#39;rich, shoyu seasoned double stock (organic chicken broth + house dashi); slow braised niman ranch pork belly, hanuku tamago, kikurage, nori, scllaions&#39;, &#39;13&#39;, &#39;6&#39;], [&#39;tonkotsu ramen&#39;, &#39;entree&#39;, &#39;rich, shoyi seasoned niman ranch pork bone stock; slow braised niman ranch pork belly, hanjuku tamago, kikurage, nori, spring radish, scallions&#39;, &#39;13&#39;, &#39;6&#39;], [&#39;burnt garlic tonkotsu ramen&#39;, &#39;entree&#39;, &#39;rich, shoyi and burnt garlic seasoned niman ranch pork bone stock; slow braised niman ranch pork belly, hanjuku tamago, kikurage, sweet corn, nori, scallions&#39;, &#39;14&#39;, &#39;6&#39;], [&#39;vegetarian curry + king trumpet mushroom ramen&#39;, &#39;entree&#39;, &#39;house curry blend + vegan dashi; fried king trumpet mushroom, tempura fried tofu, mung bean sprouts, kikurage, nori, scallions&#39;, &#39;13&#39;, &#39;7&#39;], [&#39;truffle butter ramen&#39;, &#39;entree&#39;, &#39;rich, shoyu seasoned niman ranch prok bone stock; truffle compound butter, slow braised niman ranch pork belly, kikurage, sweet corn, nori, scallions&#39;, &#39;14&#39;, &#39;7&#39;], [&#39;green tea&#39;, &#39;drinks&#39;, &#39;green tea&#39;, &#39;2.5&#39;, &#39;1&#39;], [&#39;coke&#39;, &#39;drinks&#39;, &#39;Coca Cola soda&#39;, &#39;2&#39;, &#39;1&#39;], [&#39;black sesame ice cream&#39;, &#39;desserts&#39;, &#39;house-made black sesame ice cream, valrhona chocolate threads, complimentary hojicha&#39;, &#39;5&#39;, &#39;2&#39;], [&#39;matcha ice cream&#39;, &#39;desserts&#39;, &#39;house-made matcha ice cream, white chocolate pearls; complimentary hojicha&#39;, &#39;5&#39;, &#39;2&#39;], [&#39;mango mochi ice cream&#39;, &#39;desserts&#39;, &#39;two rice-cake bonbons filled with strawberry ice cream; complimentary hojicha&#39;, &#39;5&#39;, &#39;2&#39;], [&#39;strawberry mochi ice cream&#39;, &#39;desserts&#39;, &#39;two rice-cake bonbons filled with strawberry ice cream; complimentary hojicha&#39;, &#39;5&#39;, &#39;2&#39;], [&#39;black sesame creme brulee&#39;, &#39;desserts&#39;, &#39;house made black sesame infused creme brulee; complimentary hojicha&#39;, &#39;6&#39;, &#39;3&#39;]]\n"
    }
   ],
   "source": [
    "with open (menu_csv, \"r\") as csvmenu:\n",
    "    csvmenu = csv.reader(csvmenu)\n",
    "\n",
    "    newmenu = []\n",
    "\n",
    "\n",
    "    header = next(csvmenu)\n",
    "    \n",
    "    for row in csvmenu:\n",
    "        newmenu.append(row)\n",
    "    \n",
    "    print(newmenu)\n"
   ]
  },
  {
   "cell_type": "code",
   "execution_count": 33,
   "metadata": {
    "tags": []
   },
   "outputs": [
    {
     "output_type": "stream",
     "name": "stdout",
     "text": "spicy miso ramen does not equal edamame! NO MATCH!\nspicy miso ramen does not equal house salad! NO MATCH!\nspicy miso ramen does not equal cucumber sunomono salad! NO MATCH!\nspicy miso ramen does not equal hiyashi wakame seaweed salad! NO MATCH!\nspicy miso ramen does not equal agedashi tofu! NO MATCH!\nspicy miso ramen does not equal hiyayakko tofu! NO MATCH!\nspicy miso ramen does not equal pork floss bao! NO MATCH!\nspicy miso ramen does not equal kakuni bao! NO MATCH!\nspicy miso ramen does not equal edamame fried gyoza (vegan)! NO MATCH!\nspicy miso ramen does not equal fried gyoza! NO MATCH!\nspicy miso ramen does not equal takoyaki! NO MATCH!\nspicy miso ramen does not equal rock shrimp tempura! NO MATCH!\nspicy miso ramen does not equal soft-shell crab tempura! NO MATCH!\nspicy miso ramen does not equal ebi katsu shrimp bao! NO MATCH!\nspicy miso ramen does not equal nagomi shoyu! NO MATCH!\nspicy miso ramen does not equal shio ramen! NO MATCH!\n"
    },
    {
     "output_type": "error",
     "ename": "KeyError",
     "evalue": "&#39;spicy miso ramen&#39;",
     "traceback": [
      "\u001b[1;31m---------------------------------------------------------------------------\u001b[0m",
      "\u001b[1;31mKeyError\u001b[0m                                  Traceback (most recent call last)",
      "\u001b[1;32m&lt;ipython-input-33-91b8bfeb003e&gt;\u001b[0m in \u001b[0;36m&lt;module&gt;\u001b[1;34m\u001b[0m\n\u001b[0;32m     40\u001b[0m \u001b[1;33m\u001b[0m\u001b[0m\n\u001b[0;32m     41\u001b[0m         \u001b[1;32mif\u001b[0m \u001b[0msales_item\u001b[0m \u001b[1;33m==\u001b[0m \u001b[0mitem\u001b[0m\u001b[1;33m:\u001b[0m\u001b[1;33m\u001b[0m\u001b[1;33m\u001b[0m\u001b[0m\n\u001b[1;32m---&gt; 42\u001b[1;33m             \u001b[0mreport\u001b[0m\u001b[1;33m[\u001b[0m\u001b[0msales_item\u001b[0m\u001b[1;33m]\u001b[0m\u001b[1;33m[\u001b[0m\u001b[1;34m&quot;01-count&quot;\u001b[0m\u001b[1;33m]\u001b[0m \u001b[1;33m+=\u001b[0m \u001b[0mquantity\u001b[0m\u001b[1;33m\u001b[0m\u001b[1;33m\u001b[0m\u001b[0m\n\u001b[0m\u001b[0;32m     43\u001b[0m             \u001b[0mreport\u001b[0m\u001b[1;33m[\u001b[0m\u001b[0msales_item\u001b[0m\u001b[1;33m]\u001b[0m\u001b[1;33m[\u001b[0m\u001b[1;34m&quot;02-revenue&quot;\u001b[0m\u001b[1;33m]\u001b[0m \u001b[1;33m+=\u001b[0m \u001b[0mprice\u001b[0m \u001b[1;33m*\u001b[0m \u001b[0mquantity\u001b[0m\u001b[1;33m\u001b[0m\u001b[1;33m\u001b[0m\u001b[0m\n\u001b[0;32m     44\u001b[0m             \u001b[0mreport\u001b[0m\u001b[1;33m[\u001b[0m\u001b[0msales_item\u001b[0m\u001b[1;33m]\u001b[0m\u001b[1;33m[\u001b[0m\u001b[1;34m&quot;03-cogs&quot;\u001b[0m\u001b[1;33m]\u001b[0m \u001b[1;33m+=\u001b[0m \u001b[0mcost\u001b[0m \u001b[1;33m*\u001b[0m \u001b[0mquantity\u001b[0m\u001b[1;33m\u001b[0m\u001b[1;33m\u001b[0m\u001b[0m\n",
      "\u001b[1;31mKeyError\u001b[0m: &#39;spicy miso ramen&#39;"
     ]
    }
   ],
   "source": [
    "# Manipulate the data\n",
    " \n",
    "# Set the file path\n",
    "from pathlib import Path\n",
    "import csv\n",
    "\n",
    "sales_csv = Path(\"Resources/sales_data.csv\")\n",
    "\n",
    "with open (sales_csv, \"r\") as csvsales:\n",
    "    csvsales = csv.reader(csvsales)\n",
    "\n",
    "    newsales = []\n",
    "        \n",
    "    header2 = next(csvsales)\n",
    "  \n",
    "    for row in csvsales:\n",
    "        newsales.append(row)\n",
    "            \n",
    "# Initialize an empty dictionary\n",
    "if sales_item not in report.keys():\n",
    "        report[sales_item] = {\n",
    "            \"01-count\": 0,\n",
    "            \"02-revenue\": 0,\n",
    "            \"03-cogs\": 0,\n",
    "            \"04-profit\": 0,\n",
    "        }\n",
    "report = {}\n",
    "\n",
    "# Create a nested loop by looping through every record in menu\n",
    "for row in newsales:\n",
    "    sales_item = row[4]\n",
    "    quantity = row[3]\n",
    "\n",
    "    for row in newmenu: \n",
    "        price = row[3]\n",
    "        cost = row[4]\n",
    "        item = row[0]\n",
    "        \n",
    "          \n",
    "    \n",
    "        if sales_item == item: \n",
    "            report[sales_item][\"01-count\"] += quantity\n",
    "            report[sales_item][\"02-revenue\"] += price * quantity\n",
    "            report[sales_item][\"03-cogs\"] += cost * quantity\n",
    "            report[sales_item][\"04-profit\"] += profit * quantity         \n",
    "                \n",
    "        else:\n",
    "            print(f\"{sales_item} does not equal {item}! NO MATCH!\")\n",
    "\n",
    "\n",
    "# Write out the contents of the report dictionary to a text file \n",
    "with open (\"repert.csv\", \"w\") as csv_report:\n",
    "    for key, value in report.items():\n",
    "        line= f\"{key}, {value} \\ in\"\n",
    "        csv_report.write(line)\n",
    "        \n"
   ]
  },
  {
   "cell_type": "code",
   "execution_count": 22,
   "metadata": {},
   "outputs": [],
   "source": [
    "report [\"05-sales_item\"] = 0"
   ]
  },
  {
   "cell_type": "code",
   "execution_count": 23,
   "metadata": {
    "tags": []
   },
   "outputs": [
    {
     "output_type": "stream",
     "name": "stdout",
     "text": "{'01-count': 0, '02-revenue': 0, '03-cogs': 0, '04-profit': 0, 'sales_item': 0, '05-sales_item': 0}\n"
    }
   ],
   "source": [
    "print(report)"
   ]
  },
  {
   "cell_type": "code",
   "execution_count": null,
   "metadata": {},
   "outputs": [],
   "source": [
    "\n",
    "\n"
   ]
  }
 ]
}