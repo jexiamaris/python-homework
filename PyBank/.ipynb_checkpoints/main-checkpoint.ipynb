{
 "metadata": {
  "language_info": {
   "codemirror_mode": {
    "name": "ipython",
    "version": 3
   },
   "file_extension": ".py",
   "mimetype": "text/x-python",
   "name": "python",
   "nbconvert_exporter": "python",
   "pygments_lexer": "ipython3",
   "version": "3.8.3-final"
  },
  "orig_nbformat": 2,
  "kernelspec": {
   "name": "Python 3.8.3 64-bit ('base': conda)",
   "display_name": "Python 3.8.3 64-bit ('base': conda)",
   "metadata": {
    "interpreter": {
     "hash": "3b2d1872a97fb64bbb0bf089e5dc4a4b17c31375caf39a3144f71c656be998ab"
    }
   }
  }
 },
 "nbformat": 4,
 "nbformat_minor": 2,
 "cells": [
  {
   "cell_type": "code",
   "execution_count": 13,
   "metadata": {},
   "outputs": [],
   "source": [
    "from pathlib import Path\n",
    "import csv\n",
    "\n",
    "# Set the file path\n",
    "file_csv = Path(\"../Resources/Budget_data.csv\")"
   ]
  },
  {
   "cell_type": "code",
   "execution_count": 47,
   "metadata": {
    "tags": []
   },
   "outputs": [
    {
     "output_type": "stream",
     "name": "stdout",
     "text": "total_months 86, \nnet_total_profit_loss 38382578\naverage 446309.05\n greatest_increase_profit 1170593,\ngreatest_decrease_profit -1196225\n"
    }
   ],
   "source": [
    "with open (file_csv, \"r\") as csvfile:\n",
    "    csvreader = csv.reader(csvfile)\n",
    "    \n",
    "    total_months = 0\n",
    "    net_total_profit_loss = 0\n",
    "    average = 0\n",
    "    greatest_increase_profit = 0\n",
    "    greatest_decrease_profit = 0\n",
    "\n",
    "    header = next(csvreader)\n",
    "    net_profit_loss = []\n",
    "    \n",
    "    for row in csvreader:\n",
    "        total_months = total_months + 1 \n",
    "        net_profit_loss.append(int(row[1]))\n",
    "                \n",
    "    print(f\"\"\"total_months {total_months}, \n",
    "net_total_profit_loss {sum(net_profit_loss)}\"\"\")\n",
    "\n",
    "average = sum(net_profit_loss) / total_months\n",
    "print(f\"average {round(average, 2)}\")\n",
    "\n",
    "greatest_increase_profit = (max(net_profit_loss))\n",
    "greatest_decrease_profit = (min(net_profit_loss))\n",
    "print(f\"\"\"greatest_increase_profit {greatest_increase_profit},\n",
    "greatest_decrease_profit {greatest_decrease_profit}\"\"\")"
   ]
  },
  {
   "cell_type": "code",
   "execution_count": null,
   "metadata": {},
   "outputs": [],
   "source": []
  }
 ]
}